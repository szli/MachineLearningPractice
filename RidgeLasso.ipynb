{
 "metadata": {
  "name": "",
  "signature": "sha256:4a43816e292c171b472a029bf429a698b973a1c3eabd4d88959e19c2f0d88e3e"
 },
 "nbformat": 3,
 "nbformat_minor": 0,
 "worksheets": [
  {
   "cells": [
    {
     "cell_type": "markdown",
     "metadata": {},
     "source": [
      "This exercise intends to compare the performance of OLS, Ridge and Lasso from the perspective of beta profile. "
     ]
    },
    {
     "cell_type": "code",
     "collapsed": false,
     "input": [
      "import numpy as np\n",
      "from sklearn import linear_model\n",
      "import matplotlib.pyplot as plt\n",
      "%pylab inline"
     ],
     "language": "python",
     "metadata": {},
     "outputs": [
      {
       "output_type": "stream",
       "stream": "stdout",
       "text": [
        "Populating the interactive namespace from numpy and matplotlib\n"
       ]
      }
     ],
     "prompt_number": 3
    },
    {
     "cell_type": "code",
     "collapsed": false,
     "input": [
      "N = 10000 # number of samples\n",
      "p = 100 # number of predictors"
     ],
     "language": "python",
     "metadata": {},
     "outputs": [],
     "prompt_number": 4
    },
    {
     "cell_type": "code",
     "collapsed": false,
     "input": [
      "# Generate data samples X according to normal distribution, note they are correlated\n",
      "rho = 0.5\n",
      "SigmaX = np.empty([p,p])\n",
      "SigmaX.fill(rho)\n",
      "SigmaX = SigmaX + np.identity(p) * (1-rho)\n",
      "muX = np.zeros(p)\n",
      "X = np.random.multivariate_normal(muX, SigmaX, N)"
     ],
     "language": "python",
     "metadata": {},
     "outputs": [],
     "prompt_number": 5
    },
    {
     "cell_type": "code",
     "collapsed": false,
     "input": [
      "# True value of beta\n",
      "true_beta = np.zeros([p,1])\n",
      "true_beta[p/2:p, 0] = 1\n",
      "plt.plot(true_beta)\n",
      "plt.ylabel(\"true_beta\")"
     ],
     "language": "python",
     "metadata": {},
     "outputs": [
      {
       "metadata": {},
       "output_type": "pyout",
       "prompt_number": 7,
       "text": [
        "<matplotlib.text.Text at 0x7dcff98>"
       ]
      },
      {
       "metadata": {},
       "output_type": "display_data",
       "png": "[encoded data removed]",
       "text": [
        "<matplotlib.figure.Figure at 0x7d52fd0>"
       ]
      }
     ],
     "prompt_number": 7
    },
    {
     "cell_type": "code",
     "collapsed": false,
     "input": [
      "#Generate noise and observations y\n",
      "noise_std = 1\n",
      "noise = np.random.normal(0, noise_std, [N,1])\n",
      "y = np.dot(X, true_beta) + noise"
     ],
     "language": "python",
     "metadata": {},
     "outputs": [],
     "prompt_number": 8
    },
    {
     "cell_type": "code",
     "collapsed": false,
     "input": [
      "lr = linear_model.LinearRegression()"
     ],
     "language": "python",
     "metadata": {},
     "outputs": [],
     "prompt_number": 9
    },
    {
     "cell_type": "code",
     "collapsed": false,
     "input": [
      "#OLS\n",
      "lr.fit(X,y)\n",
      "beta_OLS = np.squeeze(lr.coef_)\n",
      "plt.plot(beta_OLS)\n",
      "plt.ylabel(\"beta_OLS\")"
     ],
     "language": "python",
     "metadata": {},
     "outputs": [
      {
       "metadata": {},
       "output_type": "pyout",
       "prompt_number": 10,
       "text": [
        "<matplotlib.text.Text at 0x784f630>"
       ]
      },
      {
       "metadata": {},
       "output_type": "display_data",
       "png": "[encoded data removed]",
       "text": [
        "<matplotlib.figure.Figure at 0x787a128>"
       ]
      }
     ],
     "prompt_number": 10
    },
    {
     "cell_type": "code",
     "collapsed": false,
     "input": [
      "#Ridge\n",
      "ridge = linear_model.Ridge(alpha = 0.1, fit_intercept = False, normalize = True)\n",
      "ridge.fit(X,y)\n",
      "beta_ridge = np.squeeze(ridge.coef_)\n",
      "plt.plot(beta_ridge)\n",
      "plt.ylabel(\"beta_ridge\")"
     ],
     "language": "python",
     "metadata": {},
     "outputs": [
      {
       "metadata": {},
       "output_type": "pyout",
       "prompt_number": 11,
       "text": [
        "<matplotlib.text.Text at 0x8471d30>"
       ]
      },
      {
       "metadata": {},
       "output_type": "display_data",
       "png": "[encoded data removed]",
       "text": [
        "<matplotlib.figure.Figure at 0x783f400>"
       ]
      }
     ],
     "prompt_number": 11
    },
    {
     "cell_type": "markdown",
     "metadata": {},
     "source": [
      "This is a bit unexpected. Why Ridge gives similar result as OLS? Needs some investigation"
     ]
    },
    {
     "cell_type": "code",
     "collapsed": false,
     "input": [
      "#Lasso\n",
      "lasso = linear_model.Lasso(alpha = 0.1, fit_intercept = False, normalize = True, max_iter = 50000)"
     ],
     "language": "python",
     "metadata": {},
     "outputs": [],
     "prompt_number": 12
    },
    {
     "cell_type": "code",
     "collapsed": false,
     "input": [
      "lasso.fit(X,y)\n",
      "beta_lasso = np.squeeze(lasso.coef_)\n",
      "plt.plot(beta_lasso)\n",
      "plt.ylabel(\"Beta_Lasso\")"
     ],
     "language": "python",
     "metadata": {},
     "outputs": [
      {
       "metadata": {},
       "output_type": "pyout",
       "prompt_number": 13,
       "text": [
        "<matplotlib.text.Text at 0x84d5978>"
       ]
      },
      {
       "metadata": {},
       "output_type": "display_data",
       "png": "[encoded data removed]",
       "text": [
        "<matplotlib.figure.Figure at 0x7e25f60>"
       ]
      }
     ],
     "prompt_number": 13
    }
   ],
   "metadata": {}
  }
 ]
}